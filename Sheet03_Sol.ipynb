{
 "cells": [
  {
   "cell_type": "markdown",
   "metadata": {},
   "source": [
    "# Sheet 3: Solution"
   ]
  },
  {
   "cell_type": "code",
   "execution_count": 10,
   "metadata": {
    "collapsed": true
   },
   "outputs": [],
   "source": [
    "options(jupyter.plot_mimetypes = 'image/png',repr.plot.width=4,repr.plot.height=4) # this is just to render graphics as png and not as svg, and to adjust the default size"
   ]
  },
  {
   "cell_type": "markdown",
   "metadata": {},
   "source": [
    "## Exercise 1: High-dimensional learning"
   ]
  },
  {
   "cell_type": "markdown",
   "metadata": {},
   "source": [
    "We consider data points $(x_1, \\ldots, x_N)$ and let $r_i = \\| x_i \\|.$ Let \n",
    "$U(A)$ be the set of all $N$-tuples with $A<r_1<\\ldots<r_N<1.$ Ignoring subsets of measure zero, the set of all $N-$tuples is the disjoint union of the $N!$ different subsets obtained from $U(0)$ by permuting\n",
    "the indexing set $(1,\\ldots, N).$ We are interested in $A>0$ such that the measure $U(A)$ if half the measure of $U(0).$ The same $A$ will work for each of the $N!$ disjoint subsets, and will\n",
    "therefore give the median for the distance of the smallest $x_i$ from the origin.\n",
    "\n",
    "We want to find $A$ such that\n",
    "$$ \\int_{U(A)} dx_1 \\ldots dx_N = \\frac12 \\int_{U(0)} dx_1 \\ldots dx_N.$$ \n",
    "\n",
    "Consider the integral in the spherical coordinates. Since the coordinate in the unit sphere $S^{p-1}$ contributes\n",
    "the same constant on each side of the equality, obtaining\n",
    "$$ \n",
    "\\int_{A<r_1<\\ldots<r_N<1} r_1^{p-1}\\ldots r_N^{p-1} dr_1 \\ldots dr_N = \\frac12 \\int_{0<r_1<\\ldots<r_N<1} r_1^{p-1}\\ldots r_N^{p-1} dr_1 \\ldots dr_N.\n",
    "$$\n",
    "\n",
    "Substitude the variables to $s_i = r_i^p.$ Then we obtain\n",
    "$$ \n",
    "\\int_{A^p<s_1<\\ldots<s_N<1} ds_1 \\ldots ds_N = \\frac12 \\int_{0<s_1<\\ldots<s_N<1}  ds_1 \\ldots ds_N.\n",
    "$$\n",
    "\n",
    "Change the coordinates in the left-hand side integral to\n",
    "$$ t_0 = s_1 - A^p, t_1 = s_2 - s_1, \\ldots, t_{N-1} = s_N - s_{N-1}, t_N = 1 - s_N.$$\n",
    "\n",
    "The Jacobian (omitting $t_0$ which is a redundant variable) is a triangular matrix with $-1$ entries down the diagonal. The absolute value of its determinant, used in the change of\n",
    "variable formula for integration, is therefore equal to $1.$\n",
    "\n",
    "The region over which we integrate is\n",
    "$$\\sum_{i = 0}^N t_i = 1-A^p, \\quad \\forall t_i >0.$$\n",
    "\n",
    "\n",
    "The right-hand side of the integral can be treated in the same way, setting $A=0.$ Since the region of integration is $N-$dimensional the measure is multiplied by $(1-A^p)^N.$ Finally solve for $A$ by solving $(1-A^p)^N = \\frac12.$"
   ]
  },
  {
   "cell_type": "markdown",
   "metadata": {},
   "source": [
    "<b>More intuitive explanation:</b> The volume of an $p-$dimensional hyperball of radius $r$ has a volume proportional to $r^p$.So the proportion of the volume more than a distance $kr$ from the origin is $\\frac{r^p−(kr)^p}{r^p}=1−k^p$.\n",
    "\n",
    "The probability that all $N$ randomly chosen points are more than a distance $kr$ from the origin is $(1−k^p)^N$. To get the median distance to the nearest random point, set this probability equal to $\\frac12$. So\n",
    "$(1−kp)^N=\\frac12,$ which leads to the desired formula $k = \\left( 1- \\frac{1}{2^{1/N}} \\right)^{1/p}$.\n",
    "\n",
    "Intuitively this makes some sort of sense: the more random points there are, the closer you expect the nearest one to the origin to be, so you should expect $k$ to be a decreasing function of $N$. Here $2^{1/N}$ is a decreasing function of $N,$ so $\\frac{1}{2^{1/N}}$ is an increasing function of $N$, and thus $1−\\frac{1}{2^{1/N}}$ is a decreasing function of $N$ as is its $p$th root."
   ]
  },
  {
   "cell_type": "markdown",
   "metadata": {},
   "source": [
    "## Exercise 2: Bayes Classifier"
   ]
  },
  {
   "cell_type": "markdown",
   "metadata": {},
   "source": [
    "<b>Part 1:</b> Having determined that the Bayes classifier is of the form $f_t$ for\n",
    "some $t$, one idea for estimating it is to estimate $t$ by minimizing\n",
    "the empirical misclassification rate. We repeat the data generation and simulation from Sheet 1 here."
   ]
  },
  {
   "cell_type": "code",
   "execution_count": 11,
   "metadata": {
    "collapsed": true
   },
   "outputs": [],
   "source": [
    "N <- 1000\n",
    "Y <- rbinom(N, 1, 0.5)\n",
    "mu <- c(0, 3)[Y + 1]\n",
    "X <- rnorm(N, mu, 1)"
   ]
  },
  {
   "cell_type": "markdown",
   "metadata": {},
   "source": [
    "The minimization can be done naively in this case by evaluating the\n",
    "empirical misslassification rate on a grid and choose the minimizer."
   ]
  },
  {
   "cell_type": "code",
   "execution_count": 12,
   "metadata": {
    "collapsed": false
   },
   "outputs": [
    {
     "data": {
      "text/html": [
       "1.19"
      ],
      "text/latex": [
       "1.19"
      ],
      "text/markdown": [
       "1.19"
      ],
      "text/plain": [
       "[1] 1.19"
      ]
     },
     "metadata": {},
     "output_type": "display_data"
    }
   ],
   "source": [
    "thres <- seq(-4, 8, 0.01) \n",
    "aveMisclas <- function(t) mean((X >= t) != Y)\n",
    "misclasEmp <- sapply(thres, aveMisclas)\n",
    "thres[which.min(misclasEmp)]"
   ]
  },
  {
   "cell_type": "code",
   "execution_count": 13,
   "metadata": {
    "collapsed": false
   },
   "outputs": [
    {
     "data": {
      "image/png": "[encoded data removed]"
     },
     "metadata": {},
     "output_type": "display_data"
    }
   ],
   "source": [
    "plot(thres, misclasEmp, type = \"l\", col = \"red\", ylim = c(0, 0.6),\n",
    "     xlab = \"Threshold\", ylab = \"Misclassification rate\")"
   ]
  },
  {
   "cell_type": "markdown",
   "metadata": {},
   "source": [
    "In the alternative, we can use a more systematic approach and use a\n",
    "general purpose optimizer with the empirical misclassification rate as\n",
    "the objective function. "
   ]
  },
  {
   "cell_type": "code",
   "execution_count": 14,
   "metadata": {
    "collapsed": false
   },
   "outputs": [
    {
     "data": {
      "text/html": [
       "<dl>\n",
       "\t<dt>$minimum</dt>\n",
       "\t\t<dd>1.34129026149435</dd>\n",
       "\t<dt>$objective</dt>\n",
       "\t\t<dd>0.067</dd>\n",
       "</dl>\n"
      ],
      "text/latex": [
       "\\begin{description}\n",
       "\\item[\\$minimum] 1.34129026149435\n",
       "\\item[\\$objective] 0.067\n",
       "\\end{description}\n"
      ],
      "text/markdown": [
       "$minimum\n",
       ":   1.34129026149435\n",
       "$objective\n",
       ":   0.067\n",
       "\n",
       "\n"
      ],
      "text/plain": [
       "$minimum\n",
       "[1] 1.34129\n",
       "\n",
       "$objective\n",
       "[1] 0.067\n"
      ]
     },
     "metadata": {},
     "output_type": "display_data"
    }
   ],
   "source": [
    "optimize(aveMisclas, c(-4, 8))"
   ]
  },
  {
   "cell_type": "markdown",
   "metadata": {},
   "source": [
    "The latter approach may actually not work correctly (it may easily fail\n",
    "to find the true minimum), because the function is not smooth. In\n",
    "fact, it is discontinuous. \n",
    "\n",
    "An alternative approach is to estimate the parameters in the normal\n",
    "distributions instead and then compute the resulting Bayes classifier\n",
    "for the estimated parameters. "
   ]
  },
  {
   "cell_type": "code",
   "execution_count": 15,
   "metadata": {
    "collapsed": false
   },
   "outputs": [
    {
     "data": {
      "text/html": [
       "1.45795507098903"
      ],
      "text/latex": [
       "1.45795507098903"
      ],
      "text/markdown": [
       "1.45795507098903"
      ],
      "text/plain": [
       "[1] 1.457955"
      ]
     },
     "metadata": {},
     "output_type": "display_data"
    }
   ],
   "source": [
    "t <- (mean(X[Y == 1]) + mean(X[Y == 0]))/2\n",
    "t"
   ]
  },
  {
   "cell_type": "markdown",
   "metadata": {},
   "source": [
    "This solution is well behaved computationally, but it does rely on model\n",
    "assumptions.  "
   ]
  },
  {
   "cell_type": "markdown",
   "metadata": {},
   "source": [
    "<b> Part 2:</b> We can observe that with two classes we have the general formula for\n",
    "the conditional probability according to Bayes' theorem: \n",
    "\\begin{eqnarray*}\n",
    "P(Y=1 \\mid X = x) & = & \\frac{P(X=x \\mid Y=1)P(Y=1)}{P(X=x \\mid Y=0)P(Y=0)+P(X=x \\mid Y=1)P(Y=1)} \\\\\n",
    "& = & \\frac{\\pi_1 g_1(x)}{\\pi_0 g_0(x) + \\pi_1 g_1(x)}  \\\\\n",
    "& = & \\frac{h(x)}{1 + h(x)} \n",
    "\\end{eqnarray*}\n",
    "where \n",
    "$$h(x) = \\frac{\\pi_1 g_1(x)}{\\pi_0 g_0(x)}.$$ \n",
    "If the $g_k$'s are densities for the normal distribution with equal\n",
    "variance $\\sigma^2$ and mean values $\\mu_k$ we get that \n",
    "\\begin{eqnarray*}\n",
    "\\log h(x) & = & \\log \\frac{\\pi_1}{\\pi_0} + \\frac{(x-\\mu_0)^2 -\n",
    "    (x-\\mu_1)^2}{2\\sigma^2} \\\\\n",
    "& = & \\log \\frac{\\pi_1}{\\pi_0}  + \\frac{\\mu_0^2 - \\mu_1^2 +\n",
    "    2(\\mu_1-\\mu_0)x}{2\\sigma^2} \\\\\n",
    "& = & \\alpha + \\beta x\n",
    "\\end{eqnarray*}\n",
    "with $\\alpha = \\log \\frac{\\pi_1}{\\pi_0} + \\frac{\\mu_0^2 - \\mu_1^2}{2\\sigma^2}$ and $\\beta =\n",
    "\\frac{(\\mu_1-\\mu_0)}{\\sigma^2}$. \n",
    "\n",
    "This conditional model, with $h$ as given above, is usually called the\n",
    "<i>logistic regression  model</i>. Note that for this model the\n",
    "conditional probability, $P(Y=1 \\mid X=x)$, is 0.5 for (hence $h(x) = 1$)\n",
    "$$x = - \\frac{\\alpha}{\\beta},$$\n",
    "which is thus the threshold for the Bayes classifier. For $\\pi_0 = \\pi_1 = 0.5$ \n",
    "$$- \\frac{\\alpha}{\\beta} = - \\frac{\\mu_0^2 - \\mu_1^2}{2(\\mu_1-\\mu_0)} =  \\frac{(\\mu_0 -\n",
    "  \\mu_1)(\\mu_0+\\mu_1)}{2(\\mu_0-\\mu_1)} = \\frac{\\mu_0+\\mu_1}{2}$$\n",
    "as it is supposed to.\n",
    "\n",
    "We can fit this conditional model as a logistic regression model using\n",
    "the glm() function."
   ]
  },
  {
   "cell_type": "code",
   "execution_count": 16,
   "metadata": {
    "collapsed": false
   },
   "outputs": [
    {
     "name": "stdout",
     "output_type": "stream",
     "text": [
      "(Intercept)           X \n",
      "  -4.813421    3.259094 \n"
     ]
    },
    {
     "data": {
      "text/html": [
       "<strong>(Intercept):</strong> 1.47692007276398"
      ],
      "text/latex": [
       "\\textbf{(Intercept):} 1.47692007276398"
      ],
      "text/markdown": [
       "**(Intercept):** 1.47692007276398"
      ],
      "text/plain": [
       "(Intercept) \n",
       "    1.47692 "
      ]
     },
     "metadata": {},
     "output_type": "display_data"
    }
   ],
   "source": [
    "alphabeta <- coefficients(glm(Y ~ X, family = binomial))\n",
    "t <- -alphabeta[1]/alphabeta[2]\n",
    "print(alphabeta)\n",
    "t"
   ]
  },
  {
   "cell_type": "markdown",
   "metadata": {},
   "source": [
    "Note: For N = 100, sometimes the fitted logistic regression parameters are not very stable, that is why t from logistic regression could be far away from theorectical optima 1.5. Try N = 1000 and everything should work as expected."
   ]
  },
  {
   "cell_type": "markdown",
   "metadata": {},
   "source": [
    "<b> Part 3:</b> With unequal variances the simulation can be done as follows."
   ]
  },
  {
   "cell_type": "code",
   "execution_count": 20,
   "metadata": {
    "collapsed": false
   },
   "outputs": [],
   "source": [
    "N <- 1000\n",
    "Y <- rbinom(N, 1, 0.5)\n",
    "mu <- c(0, 3)[Y + 1]\n",
    "sd <- c(1, 5)[Y + 1]\n",
    "X <- rnorm(N, mu, sd)"
   ]
  },
  {
   "cell_type": "markdown",
   "metadata": {},
   "source": [
    "We take a look at the density plots again. It shows again the empirical\n",
    "marginal distribution of $X$ and the empirical conditional distributions of $X$\n",
    "divided according to the two groups."
   ]
  },
  {
   "cell_type": "code",
   "execution_count": 21,
   "metadata": {
    "collapsed": false
   },
   "outputs": [
    {
     "name": "stdout",
     "output_type": "stream",
     "text": [
      " [1] -14 -12 -10  -8  -6  -4  -2   0   2   4   6   8  10  12  14  16  18  20\n",
      "[1] -13.49067  19.80826\n"
     ]
    },
    {
     "data": {
      "image/png": "[encoded data removed]"
     },
     "metadata": {},
     "output_type": "display_data"
    }
   ],
   "source": [
    "breaks <- pretty(X, 12)\n",
    "print(pretty(X, 12))\n",
    "print(range(X))\n",
    "  hist(X[Y == 1], breaks, freq = FALSE, ylim = c(0, 0.8), \n",
    "       xlim = range(breaks), col = \"red\", main = \"Histogram\", \n",
    "       xlab = \"X\")\n",
    "  hist(X[Y == 0], breaks, freq = FALSE, col = \"blue\", add = TRUE)\n",
    "  hist(X, breaks, freq = FALSE, add = TRUE, col = rgb(0, 1, 0, 0.7))"
   ]
  },
  {
   "cell_type": "markdown",
   "metadata": {},
   "source": [
    "What should be noted is that large negative values also come\n",
    "from group 1. \n",
    "\n",
    "The way of computing the average prediction errors for $f_t$ does not\n",
    "change, and the theoretical computation yields\n",
    "\\begin{eqnarray*}\n",
    "\\textrm{EPE}(f_t) & = & (\\Phi_{3,5}(t) + 1 - \\Phi_{0,1}(t))/2,\n",
    "\\end{eqnarray*}\n",
    "where $\\Phi_{\\mu,\\sigma}$ denotes the cumulative distribution function for the normal distribution with mean $\\mu$ and variance $\\sigma^2.$"
   ]
  },
  {
   "cell_type": "code",
   "execution_count": 22,
   "metadata": {
    "collapsed": false
   },
   "outputs": [
    {
     "name": "stdout",
     "output_type": "stream",
     "text": [
      "[1] 0.1525093\n"
     ]
    },
    {
     "data": {
      "image/png": "[encoded data removed]"
     },
     "metadata": {},
     "output_type": "display_data"
    }
   ],
   "source": [
    "thres <- seq(-8, 12, 0.01) \n",
    "aveMisclas <- function(t) mean((X >= t) != Y)\n",
    "misclasEmp <- sapply(thres, aveMisclas)\n",
    "theoMisclas <- function(t) (pnorm(t, 3, 5) + 1 - pnorm(t))/2\n",
    "misclasTheo <- theoMisclas(thres)\n",
    "plot(thres, misclasEmp, type = \"l\", col = \"red\", ylim = c(0, 0.6),\n",
    "     xlab = \"Threshold\", ylab = \"Misclassification rate\")\n",
    "lines(thres, misclasTheo, type = \"l\", col = \"blue\")\n",
    "z <- (-6 + c(-1,1)*sqrt(36+24*4*(9+50*log(5))))/48\n",
    "lines(c(z[1], z[1]), c(0, 0.6))\n",
    "lines(c(z[2], z[2]), c(0, 0.6))\n",
    "BayesRate <- (pnorm(z[2], 3, 5) - pnorm(z[1], 3, 5) + \n",
    "              pnorm(z[1]) + 1 - pnorm(z[2]))/2\n",
    "print(BayesRate)    \n",
    "lines(c(-8, 12), c(BayesRate, BayesRate), col = \"purple\")\n",
    "legend(\"bottomright\",lty=1,col=c(\"red\",\"blue\",\"purple\"),legend = c(\"Experimental\", \"Theoretical\",\"BayesRate\"),text.width=7)"
   ]
  },
  {
   "cell_type": "markdown",
   "metadata": {},
   "source": [
    "Obviously there is a minimizer, which could be found by solving \n",
    "$$\\Phi_{3,5}^{'}(t) = \\Phi_{0,1}^{'}(t)$$\n",
    "hence $$\\varphi_{3,5}(t) = \\varphi_{0,1}(t)$$\n",
    "where $\\varphi_{\\mu,\\sigma}$ denotes the density function for the normal distribution with mean $\\mu$ and variance $\\sigma^2$. This amounts to $(t-3)^2 + 50\\log(5)= 25t^2$ (be careful to choose the minimizer). \n",
    "The decision boundary of an optimal Bayes classifier should be splitted into two sides, given by \n",
    "$$f_B(x) = 1(x \\leq t_{\\text{lower}} \\mid\\mid x \\geq t_{\\text{upper}})$$\n",
    "with $t_{\\text{lower}}$ and $t_{\\text{upper}}$ the two solutions of\n",
    "the quadratic equation above ($-2.0598$ and $1.8098$, respectively). The Bayes rate is \n",
    "$$(\\Phi_{3,5}(t_{\\text{upper}}) - \\Phi_{3,5}(t_{\\text{lower}}) +\n",
    "\\Phi_{0,1}(t_{\\text{lower}}) + 1 - \\Phi_{0, 1}(t_{\\text{upper}}))/2 = 0.1525$$"
   ]
  },
  {
   "cell_type": "markdown",
   "metadata": {},
   "source": [
    "## Exercise 3: Classification"
   ]
  },
  {
   "cell_type": "markdown",
   "metadata": {
    "collapsed": true
   },
   "source": [
    "First we read the data from the files related to 2's and 3's"
   ]
  },
  {
   "cell_type": "code",
   "execution_count": 2,
   "metadata": {
    "collapsed": false
   },
   "outputs": [
    {
     "name": "stdout",
     "output_type": "stream",
     "text": [
      "[1] 731\n",
      "[1] 658\n",
      "[1] 1389\n"
     ]
    }
   ],
   "source": [
    "train2 <- read.table('train.2',sep=\",\") \n",
    "train3 <- read.table('train.3',sep=\",\")\n",
    "\n",
    "l2train <- nrow(train2) \n",
    "l3train <- nrow(train3)\n",
    "print(l2train)\n",
    "print(l3train)\n",
    "\n",
    "train <- rbind(train2,train3)\n",
    "\n",
    "print(nrow(train))\n",
    "train <- as.matrix(train) \n",
    "response2 <- rep(-1,times=l2train)\n",
    "response3 <- rep( 1,times=l3train)\n",
    "response <- c(response2,response3)\n",
    "\n",
    "ltrain <- length(response)\n",
    "beta.lm <- lm(response ~ 0+train)"
   ]
  },
  {
   "cell_type": "markdown",
   "metadata": {},
   "source": [
    "Why does the solution we seek go through the origin?  This is\n",
    "reasonable here as the origin corresponds to the situation where all\n",
    "pixels have the same medium level intensity. This gives no\n",
    "information about whether a 2 or a 3 is being imaged, so we are on\n",
    "the borderline between the two regions\n"
   ]
  },
  {
   "cell_type": "code",
   "execution_count": 3,
   "metadata": {
    "collapsed": false
   },
   "outputs": [
    {
     "name": "stdout",
     "output_type": "stream",
     "text": [
      "[1] 1389    1\n",
      "[1] 0.3966565\n"
     ]
    }
   ],
   "source": [
    "beta <- coef(beta.lm)\n",
    "training.resids <- response-train%*%beta\n",
    "print(dim(training.resids))\n",
    "training.error <- sum(training.resids*training.resids)/ltrain\n",
    "\n",
    "training.resid2 <- training.resids[1:l2train]\n",
    "training.resid3 <- training.resids[(l2train+1):ltrain] \n",
    "w2train <- sum(training.resid2>0)/l2train \n",
    "w3train <- sum(training.resid3<0)/l3train\n",
    "print(w3train)"
   ]
  },
  {
   "cell_type": "code",
   "execution_count": 4,
   "metadata": {
    "collapsed": false
   },
   "outputs": [
    {
     "data": {
      "text/html": [
       "0.0992504791138754"
      ],
      "text/latex": [
       "0.0992504791138754"
      ],
      "text/markdown": [
       "0.0992504791138754"
      ],
      "text/plain": [
       "[1] 0.09925048"
      ]
     },
     "metadata": {},
     "output_type": "display_data"
    }
   ],
   "source": [
    "training.error"
   ]
  },
  {
   "cell_type": "markdown",
   "metadata": {},
   "source": [
    "Test the algotihm on the data from corresponding files by calculating the residual error. Find out proportion of misclassified examples."
   ]
  },
  {
   "cell_type": "code",
   "execution_count": 5,
   "metadata": {
    "collapsed": false
   },
   "outputs": [
    {
     "data": {
      "text/html": [
       "<ol class=list-inline>\n",
       "\t<li>198</li>\n",
       "\t<li>257</li>\n",
       "</ol>\n"
      ],
      "text/latex": [
       "\\begin{enumerate*}\n",
       "\\item 198\n",
       "\\item 257\n",
       "\\end{enumerate*}\n"
      ],
      "text/markdown": [
       "1. 198\n",
       "2. 257\n",
       "\n",
       "\n"
      ],
      "text/plain": [
       "[1] 198 257"
      ]
     },
     "metadata": {},
     "output_type": "display_data"
    },
    {
     "data": {
      "text/html": [
       "<ol class=list-inline>\n",
       "\t<li>166</li>\n",
       "\t<li>257</li>\n",
       "</ol>\n"
      ],
      "text/latex": [
       "\\begin{enumerate*}\n",
       "\\item 166\n",
       "\\item 257\n",
       "\\end{enumerate*}\n"
      ],
      "text/markdown": [
       "1. 166\n",
       "2. 257\n",
       "\n",
       "\n"
      ],
      "text/plain": [
       "[1] 166 257"
      ]
     },
     "metadata": {},
     "output_type": "display_data"
    }
   ],
   "source": [
    "test1<-read.table('zip.test',sep=\" \")\n",
    "test2 <- subset(test1, test1[,1] == 2)\n",
    "test3 <- subset(test1, test1[,1] == 3) \n",
    "dim(test2)\n",
    "dim(test3)\n",
    "l2test <- nrow(test2) \n",
    "l3test <- nrow(test3)"
   ]
  },
  {
   "cell_type": "code",
   "execution_count": 6,
   "metadata": {
    "collapsed": false
   },
   "outputs": [
    {
     "name": "stdout",
     "output_type": "stream",
     "text": [
      "[1] 364 256\n"
     ]
    }
   ],
   "source": [
    "test <- rbind(test2,test3) \n",
    "test <- as.matrix(test)\n",
    "test <- test[,2:ncol(test)]\n",
    "print(dim(test))"
   ]
  },
  {
   "cell_type": "code",
   "execution_count": 7,
   "metadata": {
    "collapsed": false
   },
   "outputs": [],
   "source": [
    "z2 <- rep(-1,times=l2test) \n",
    "z3 <- rep( 1,times=l3test) \n",
    "z <- c(z2,z3) \n",
    "ltest <- length(z)\n",
    "test.resids <- z-test%*%beta \n",
    "test.error <- sum(test.resids*test.resids)/ltest\n",
    "\n",
    "test.resid2 <- test.resids[1:l2test]\n",
    "test.resid3 <- test.resids[(l2test+1):ltest] \n",
    "w2test <- sum(test.resid2>0)/l2test \n",
    "w3test <- sum(test.resid3<0)/l3test"
   ]
  },
  {
   "cell_type": "markdown",
   "metadata": {},
   "source": [
    "Write the results into the separate file"
   ]
  },
  {
   "cell_type": "code",
   "execution_count": 8,
   "metadata": {
    "collapsed": false
   },
   "outputs": [
    {
     "data": {
      "text/html": [
       "0.218377494234479"
      ],
      "text/latex": [
       "0.218377494234479"
      ],
      "text/markdown": [
       "0.218377494234479"
      ],
      "text/plain": [
       "[1] 0.2183775"
      ]
     },
     "metadata": {},
     "output_type": "display_data"
    }
   ],
   "source": [
    "test.error"
   ]
  },
  {
   "cell_type": "code",
   "execution_count": 9,
   "metadata": {
    "collapsed": false
   },
   "outputs": [],
   "source": [
    "fd <- file(\"Ex3Results\",\"wt\") \n",
    "writeLines(paste(\"Training error on linear regression = \",\n",
    "round(training.error,digits=5)),fd)\n",
    "writeLines(paste(\"Proportion of training errors on the digit 2 = \",\n",
    "round(w2train,digits=5)),fd)\n",
    "writeLines(paste(\"Proportion of training errors on the digit 3 = \",\n",
    "round(w3train,digits=5)),fd)\n",
    "writeLines(paste(\"Test error on linear regression = \",\n",
    "round(test.error,digits=5)),fd)\n",
    "writeLines(paste(\"Proportion of test errors on the digit 2 = \",\n",
    "round(w2test,digits=5)),fd)\n",
    "writeLines(paste(\"Proportion of test errors on the digit 3 = \",\n",
    "round(w3test,digits=5)),fd)\n",
    "cat(\"End of linear regression\\n======================\\n\",file=fd)\n",
    "close(fd)\n"
   ]
  },
  {
   "cell_type": "code",
   "execution_count": 20,
   "metadata": {
    "collapsed": false
   },
   "outputs": [],
   "source": [
    "library(class)\n",
    "fd <- file(\"Ex3Results\",\"a+\") \n",
    "writeLines(\"Now we look at nearest neighbour regression\",fd)\n",
    "writeLines(\"nhd \\t training error \\t testing error\",fd)\n",
    "for (k in c(1,3,5,7,15)){\n",
    "    test_knnpred <- knn(train=train, test=test, cl=response, k=k, prob=TRUE)\n",
    "    train_knnpred <- knn(train=train, test=train, cl=response, k=k, prob=TRUE)\n",
    "#     knnmodel = KNeighborsClassifier(n_neighbors=k)\n",
    "#     knnmodel.fit(train, response)\n",
    "#     test_knnpred = knnmodel.predict(test)\n",
    "#     train_knnpred = knnmodel.predict(train)\n",
    "    train_knnerror <- 1-sum(train_knnpred==factor(response))/ltrain\n",
    "    test_knnerror <- 1- sum(test_knnpred==factor(z))/ltest\n",
    "    writeLines(paste(k, \"\\t\", round(train_knnerror,digits=5), \"\\t\",round(test_knnerror,digits=5)), fd)\n",
    "    }\n",
    "close(fd)"
   ]
  },
  {
   "cell_type": "markdown",
   "metadata": {},
   "source": [
    "Note that linear regression is hopeless on this problem, partly because the pixels for different samples do not align properly. What is unexpected is that the linear regression\n",
    "does better on the test data than on the training data.\n",
    "    \n",
    "Nearest neighbor results are quite reasonable. The training error results are reduced by the\n",
    "fact that there is one direct hit. Note how the amount of error creeps up as the number of\n",
    "neighbors is increased."
   ]
  },
  {
   "cell_type": "code",
   "execution_count": null,
   "metadata": {
    "collapsed": true
   },
   "outputs": [],
   "source": []
  }
 ],
 "metadata": {
  "kernelspec": {
   "display_name": "R",
   "language": "R",
   "name": "ir"
  },
  "language_info": {
   "codemirror_mode": "r",
   "file_extension": ".r",
   "mimetype": "text/x-r-source",
   "name": "R",
   "pygments_lexer": "r",
   "version": "3.3.2"
  }
 },
 "nbformat": 4,
 "nbformat_minor": 0
}
